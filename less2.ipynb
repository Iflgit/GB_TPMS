{
 "cells": [
  {
   "cell_type": "markdown",
   "metadata": {},
   "source": [
    "## Урок 2. Дискретные случайные величины. Закон распределения вероятностей. Биномиальный закон распределения. Распределение Пуассона\n",
    "### Задача 1\n",
    "#### Контрольная работа состоит из пяти вопросов. На каждый вопрос приведено четыре варианта ответа, один из которых правильный. Составьте закон распределения числа правильных ответов при простом угадывании. Найдите M(X), D(X)."
   ]
  },
  {
   "cell_type": "markdown",
   "metadata": {},
   "source": [
    "Число правильных ответов будет дискретной случайной величиной. \n",
    "<table border=\"3\">\n",
    "<tr><th>**X**</th><td>0</td><td>1</td><td>2</td><td>3</td><td>4</td><td>5</td></tr>\n",
    "<tr><th>**p**</th><td>p(0)</td><td>p(1)</td><td>p(2)</td><td>p(3)</td><td>p(4)</td><td>p(5)</td></tr>\n",
    "</table>\n",
    "Вероятность угадать 1 из 4 ответов в каждом билете:\n",
    "$$P(+) = \\frac{1}{4}$$\n",
    "т.к. Биномиальный закон распределения — это закон распределения числа $X=k$ наступлений события $A$ в $n$ независимых испытаниях, в каждом из которых оно может произойти с вероятностью $p$, то закон распределения числа правильных ответов будет подчиняться биномиальному распределению:\n",
    "$$P_n(X=k) = C_n^k p^k q^{n-k}$$, где n=5, k=4, p=P(+), q = 1-p\n"
   ]
  },
  {
   "cell_type": "code",
   "execution_count": 1,
   "metadata": {},
   "outputs": [
    {
     "name": "stdout",
     "output_type": "stream",
     "text": [
      "P(0)=0.2373046875\n",
      "P(1)=0.3955078125\n",
      "P(2)=0.263671875\n",
      "P(3)=0.087890625\n",
      "P(4)=0.0146484375\n",
      "P(5)=0.0009765625\n"
     ]
    }
   ],
   "source": [
    "from math import factorial\n",
    "\n",
    "def combinations(n, k):\n",
    "    return int(factorial(n) / (factorial(k) * factorial(n - k)))\n",
    "\n",
    "raspr = list()\n",
    "\n",
    "for i in range(0, 6):\n",
    "    P_ = combinations(5, i)*.25**i*.75**(5-i)\n",
    "    print(f'P({i})={P_}')\n",
    "    raspr.append(P_)"
   ]
  },
  {
   "cell_type": "code",
   "execution_count": 8,
   "metadata": {},
   "outputs": [
    {
     "data": {
      "text/plain": [
       "1.25"
      ]
     },
     "execution_count": 8,
     "metadata": {},
     "output_type": "execute_result"
    }
   ],
   "source": [
    "import numpy as np\n",
    "values = np.array(range(0, 6))\n",
    "raspr = np.array(raspr)\n",
    "M = np.dot(raspr, values)\n",
    "M"
   ]
  },
  {
   "cell_type": "code",
   "execution_count": 9,
   "metadata": {},
   "outputs": [
    {
     "data": {
      "text/plain": [
       "1.25"
      ]
     },
     "execution_count": 9,
     "metadata": {},
     "output_type": "execute_result"
    }
   ],
   "source": [
    "M = 0\n",
    "for i in range(0, 6):\n",
    "    M += raspr[i]*i\n",
    "M"
   ]
  },
  {
   "cell_type": "code",
   "execution_count": 4,
   "metadata": {},
   "outputs": [
    {
     "data": {
      "text/plain": [
       "array([-1.25, -0.25,  0.75,  1.75,  2.75,  3.75])"
      ]
     },
     "execution_count": 4,
     "metadata": {},
     "output_type": "execute_result"
    }
   ],
   "source": [
    "Y = values - M\n",
    "Y"
   ]
  },
  {
   "cell_type": "code",
   "execution_count": 10,
   "metadata": {},
   "outputs": [
    {
     "data": {
      "text/plain": [
       "0.9375"
      ]
     },
     "execution_count": 10,
     "metadata": {},
     "output_type": "execute_result"
    }
   ],
   "source": [
    "D = (Y ** 2).dot(raspr)\n",
    "D"
   ]
  },
  {
   "cell_type": "code",
   "execution_count": 11,
   "metadata": {},
   "outputs": [
    {
     "data": {
      "text/plain": [
       "0.9375"
      ]
     },
     "execution_count": 11,
     "metadata": {},
     "output_type": "execute_result"
    }
   ],
   "source": [
    "D = 0\n",
    "for i in range(0, 6):\n",
    "    D += Y[i]**2 *raspr[i]\n",
    "D"
   ]
  },
  {
   "cell_type": "markdown",
   "metadata": {},
   "source": [
    "### Задача 2\n",
    "#### Вероятность попадания в цель при одном выстреле равна 0.01. Какова вероятность того, что число попаданий при 200 выстрелах будет не менее 5 и не более 10?"
   ]
  },
  {
   "cell_type": "markdown",
   "metadata": {},
   "source": [
    "И снова биномиальное распределение. $$P_n(X=k) = C_n^k p^k q^{n-k}$$, где n=200, k=5-10, p=0,01, q = 1-p"
   ]
  },
  {
   "cell_type": "markdown",
   "metadata": {},
   "source": [
    "Вероятности 5, 6, 7, 8, 9, 10 попаданий надо сложить, чтобы получить общую вероятность."
   ]
  },
  {
   "cell_type": "code",
   "execution_count": 12,
   "metadata": {},
   "outputs": [],
   "source": [
    "n = 200\n",
    "p = 0.01\n",
    "\n",
    "def P(k):\n",
    "    return combinations(n,k)*p**k*(1-p)**(n-k)"
   ]
  },
  {
   "cell_type": "code",
   "execution_count": 26,
   "metadata": {},
   "outputs": [
    {
     "name": "stdout",
     "output_type": "stream",
     "text": [
      "P(5)=0.03572335672160829\n",
      "P(6)=0.011727364580325954\n",
      "P(7)=0.0032829851783307863\n",
      "P(8)=0.0008000203780528306\n",
      "P(9)=0.000172394963620812\n",
      "P(10)=3.326003843593443e-05\n"
     ]
    },
    {
     "data": {
      "text/plain": [
       "0.051739381860374606"
      ]
     },
     "execution_count": 26,
     "metadata": {},
     "output_type": "execute_result"
    }
   ],
   "source": [
    "a = 0\n",
    "for i in range(5, 11):\n",
    "    print(f'P({i})={P(i)}')\n",
    "    a += P(i)\n",
    "a"
   ]
  },
  {
   "cell_type": "markdown",
   "metadata": {},
   "source": [
    "### Задача 3\n",
    "#### В условиях предыдущей задачи сколько выстрелов нужно сделать чтобы быть уверенным с вероятностью 0.9, что хотя бы 10 раз будет совершено попадание?\n",
    "#### Подсказка. Как посчитать P(X >= k) для величины X, имеющей распределение Пуассона? Здесь предстоит немножко покодить."
   ]
  },
  {
   "cell_type": "markdown",
   "metadata": {},
   "source": [
    "Пуассона, так Пуассона... судя по результату предыдущей задачи пострелять придётся не мало\n"
   ]
  },
  {
   "cell_type": "code",
   "execution_count": 38,
   "metadata": {},
   "outputs": [],
   "source": [
    "def Puasson(a, k):\n",
    "    return a**k*np.exp(-a)/factorial(k)"
   ]
  },
  {
   "cell_type": "markdown",
   "metadata": {},
   "source": [
    "Нас устроит число попаданий от 10 включительно до общего числа выстрелов. Сложим все эти вероятности"
   ]
  },
  {
   "cell_type": "code",
   "execution_count": 57,
   "metadata": {},
   "outputs": [],
   "source": [
    "def AllP(n):\n",
    "    p_ = 0\n",
    "    for i in range(10, n+1):\n",
    "        p_ += Puasson(0.01*n, i)\n",
    "        if Puasson(0.01*n, i) < 10**(-10):\n",
    "            break #дальнейший вклад в сумму минимален, а сичтать большие числа\n",
    "    return p_"
   ]
  },
  {
   "cell_type": "code",
   "execution_count": 59,
   "metadata": {},
   "outputs": [
    {
     "name": "stdout",
     "output_type": "stream",
     "text": [
      "0.9001760722801236 1421\n"
     ]
    }
   ],
   "source": [
    "n = 100\n",
    "while AllP(n) < 0.9:\n",
    "    n +=1\n",
    "print(AllP(n), n)"
   ]
  },
  {
   "cell_type": "code",
   "execution_count": null,
   "metadata": {},
   "outputs": [],
   "source": []
  }
 ],
 "metadata": {
  "kernelspec": {
   "display_name": "Python 3",
   "language": "python",
   "name": "python3"
  },
  "language_info": {
   "codemirror_mode": {
    "name": "ipython",
    "version": 3
   },
   "file_extension": ".py",
   "mimetype": "text/x-python",
   "name": "python",
   "nbconvert_exporter": "python",
   "pygments_lexer": "ipython3",
   "version": "3.7.1"
  }
 },
 "nbformat": 4,
 "nbformat_minor": 2
}
